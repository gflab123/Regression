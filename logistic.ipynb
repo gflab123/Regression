{
 "cells": [
  {
   "cell_type": "markdown",
   "id": "6eca9d89-d499-49fb-9d6c-6fe24076c35a",
   "metadata": {},
   "source": [
    "Part 1 - Defining Class for Logistic Regression"
   ]
  },
  {
   "cell_type": "code",
   "execution_count": 1,
   "id": "2800758a-aa23-4625-9b0a-b069d0804e28",
   "metadata": {
    "tags": []
   },
   "outputs": [],
   "source": [
    "import numpy as np\n",
    "import pandas as pd"
   ]
  },
  {
   "cell_type": "code",
   "execution_count": 2,
   "id": "572331ab-3e66-4e55-965a-ab770d31bb34",
   "metadata": {
    "tags": []
   },
   "outputs": [],
   "source": [
    "class LogitRegression() :\n",
    "\n",
    "    def __init__( self, learning_rate, iterations) :\n",
    "        self.learning_rate = learning_rate\n",
    "        self.iterations = iterations\n",
    "\n",
    "    def p(self,X):\n",
    "        return 1/(1+np.exp(-(X @ self.w)))\n",
    "\n",
    "    def fit(self, X, y) :\n",
    "        m,n = X.shape\n",
    "        X = np.hstack([np.ones((m,1)),X])\n",
    "        y = y.squeeze()\n",
    "        self.w = np.zeros(n+1)\n",
    "        for i in range(self.iterations) :\n",
    "            self.w = self.w - self.learning_rate * ((self.p(X)-y) @ X) \n",
    "\n",
    "    def predict(self, X) :\n",
    "        m = X.shape[0]\n",
    "        X = np.hstack([np.ones((m,1)),X])\n",
    "        y_hat = np.where( self.p(X) > 0.5, 1, 0 )\n",
    "        return y_hat"
   ]
  },
  {
   "cell_type": "markdown",
   "id": "27adc579-e1ae-40a6-8968-608af1bdf6af",
   "metadata": {},
   "source": [
    "Part 2 - Loading and Processing Dataset"
   ]
  },
  {
   "cell_type": "code",
   "execution_count": 3,
   "id": "71270073-e4f7-4a11-93c7-05b6719617d8",
   "metadata": {
    "tags": []
   },
   "outputs": [],
   "source": [
    "from sklearn.preprocessing import minmax_scale\n",
    "from sklearn.model_selection import train_test_split\n",
    "from sklearn.linear_model import LogisticRegression"
   ]
  },
  {
   "cell_type": "code",
   "execution_count": 5,
   "id": "ce52d84d-8b23-4ad4-8aa5-4cd54fa2b5e1",
   "metadata": {
    "tags": []
   },
   "outputs": [],
   "source": [
    "diabetes_df = pd.read_csv( \"./datasets/diabetes.csv\" )\n",
    "X = minmax_scale(diabetes_df.iloc[:,:-1].values)\n",
    "y = diabetes_df.iloc[:,-1:].values.reshape(-1)\n",
    "X_train, X_test, y_train, y_test =train_test_split(\n",
    "    X, y, test_size = 1/3, random_state =6\n",
    ")"
   ]
  },
  {
   "cell_type": "markdown",
   "id": "51d2a39b-ab7c-4ec4-afb6-bedaca726ef7",
   "metadata": {},
   "source": [
    "Part 3 - Comparing Models"
   ]
  },
  {
   "cell_type": "code",
   "execution_count": 6,
   "id": "2beb9c77-144a-4474-a145-fe051d6311cf",
   "metadata": {
    "tags": []
   },
   "outputs": [
    {
     "name": "stdout",
     "output_type": "stream",
     "text": [
      "Accuracy on test set by our implementation of Logistic Reg model : 74.609375\n",
      "Accuracy on test set by sklearn model : 78.515625\n"
     ]
    }
   ],
   "source": [
    "models = [\n",
    "    LogitRegression(learning_rate = .1, iterations = 1000),\n",
    "    LogisticRegression()\n",
    "]\n",
    "\n",
    "for model in models:\n",
    "    model.fit(X_train,y_train)\n",
    "    \n",
    "def compute_accuracy(model,X_test,y_test):\n",
    "    y_hat = model.predict(X_test)\n",
    "    return (y_hat==y_test).mean() * 100 \n",
    "\n",
    "print(\"Accuracy on test set by our implementation of Logistic Reg model :\",\n",
    "    compute_accuracy(models[0],X_test,y_test)\n",
    ")\n",
    "\n",
    "print(\"Accuracy on test set by sklearn model :\",\n",
    "    compute_accuracy(models[1],X_test,y_test) \n",
    ")"
   ]
  }
 ],
 "metadata": {
  "kernelspec": {
   "display_name": "Python 3 (ipykernel)",
   "language": "python",
   "name": "python3"
  },
  "language_info": {
   "codemirror_mode": {
    "name": "ipython",
    "version": 3
   },
   "file_extension": ".py",
   "mimetype": "text/x-python",
   "name": "python",
   "nbconvert_exporter": "python",
   "pygments_lexer": "ipython3",
   "version": "3.10.10"
  }
 },
 "nbformat": 4,
 "nbformat_minor": 5
}
